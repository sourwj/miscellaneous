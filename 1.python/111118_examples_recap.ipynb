{
 "cells": [
  {
   "cell_type": "markdown",
   "metadata": {},
   "source": [
    "### ex01_syntax"
   ]
  },
  {
   "cell_type": "code",
   "execution_count": 15,
   "metadata": {},
   "outputs": [
    {
     "data": {
      "text/plain": [
       "'.다니입일11 월11 년8102 은늘오'"
      ]
     },
     "execution_count": 15,
     "metadata": {},
     "output_type": "execute_result"
    }
   ],
   "source": [
    "data = '오늘은 2018년 11월 11일입니다.'\n",
    "data #'오늘은 2018년 11월 11일입니다.'\n",
    "type(data) #str\n",
    "data[0:] #'오늘은 2018년 11월 11일입니다.'\n",
    "data[1:5] #'늘은 2'\n",
    "data[-1] #'.'\n",
    "len(data) #21\n",
    "data[20] #'.'\n",
    "data[-1] == data[20] #True\n",
    "data[::-1] #'.다니입일11 월11 년8102 은늘오'"
   ]
  },
  {
   "cell_type": "code",
   "execution_count": 16,
   "metadata": {},
   "outputs": [
    {
     "name": "stdout",
     "output_type": "stream",
     "text": [
      "*****\n"
     ]
    }
   ],
   "source": [
    "print('*'*5)"
   ]
  },
  {
   "cell_type": "code",
   "execution_count": 4,
   "metadata": {},
   "outputs": [
    {
     "data": {
      "text/plain": [
       "7"
      ]
     },
     "execution_count": 4,
     "metadata": {},
     "output_type": "execute_result"
    }
   ],
   "source": [
    "def getSum(input):\n",
    "    num = 5\n",
    "    return num + input\n",
    "\n",
    "result = getSum(2)\n",
    "result"
   ]
  },
  {
   "cell_type": "markdown",
   "metadata": {},
   "source": [
    "### ex_02_formatting"
   ]
  },
  {
   "cell_type": "code",
   "execution_count": 20,
   "metadata": {},
   "outputs": [
    {
     "data": {
      "text/plain": [
       "\"Hello, WonJeung, there's a 0x53041 error!\""
      ]
     },
     "execution_count": 20,
     "metadata": {},
     "output_type": "execute_result"
    }
   ],
   "source": [
    "greeting = 'Hello, %s'% 'WonJeung'\n",
    "greeting\n",
    "warning = \"Hello, %s, there's a 0x%d error!\"%('WonJeung', 53041)\n",
    "warning"
   ]
  },
  {
   "cell_type": "code",
   "execution_count": 26,
   "metadata": {},
   "outputs": [
    {
     "data": {
      "text/plain": [
       "\"Hello, Ms.Choi WonJeung, there's a 0x53042 error and it took 2.500000 seconds to solve.\""
      ]
     },
     "execution_count": 26,
     "metadata": {},
     "output_type": "execute_result"
    }
   ],
   "source": [
    "sentence1 = \"Hello, Ms.%s %s, there's a 0x%d error and it took %f seconds to solve.\"%('Choi','WonJeung', 53042, 2.5)\n",
    "sentence1"
   ]
  },
  {
   "cell_type": "code",
   "execution_count": 28,
   "metadata": {},
   "outputs": [
    {
     "data": {
      "text/plain": [
       "\"Hello, Ms.Kim Sujeong, there's a 0x53043 error and it took 1.500000 seconds to solve.\""
      ]
     },
     "execution_count": 28,
     "metadata": {},
     "output_type": "execute_result"
    }
   ],
   "source": [
    "sentence2 = \"Hello, Ms.%s %s, there's a 0x%d error and it took %f seconds to solve.\"%('Kim','Sujeong', 53043, 1.5)\n",
    "sentence2"
   ]
  },
  {
   "cell_type": "markdown",
   "metadata": {},
   "source": [
    "### ex_03_string"
   ]
  },
  {
   "cell_type": "code",
   "execution_count": 30,
   "metadata": {},
   "outputs": [
    {
     "data": {
      "text/plain": [
       "\"aujourd'hui c'est dimanche 11 novembre 2018 et j'apprends python!\""
      ]
     },
     "execution_count": 30,
     "metadata": {},
     "output_type": "execute_result"
    }
   ],
   "source": [
    "sen = \"aujourd'hui c'est dimanche 11 novembre 2018 et j'apprends python!\"\n",
    "sen #\"aujourd'hui c'est dimanche 11 novembre 2018 et j'apprends python!\"\n",
    "new_sen = sen.capitalize()\n",
    "new_sen #\"Aujourd'hui c'est dimanche 11 novembre 2018 et j'apprends python!\"\n",
    "len(new_sen) #65\n",
    "new_sen.count(\"'\") #3\n",
    "new_sen.find('!') #64\n",
    "new_sen.find('dimanche') #18\n",
    "type(new_sen) #str"
   ]
  },
  {
   "cell_type": "code",
   "execution_count": 2,
   "metadata": {},
   "outputs": [
    {
     "data": {
      "text/plain": [
       "'Sometimes Python is easy, sometimes Python is complicated'"
      ]
     },
     "execution_count": 2,
     "metadata": {},
     "output_type": "execute_result"
    }
   ],
   "source": [
    "repeat = \"Sometimes Python is easy, sometimes Python is complicated\"\n",
    "repeat #'Sometimes Python is easy, sometimes Python is complicated'\n",
    "repeat.count(\"Sometimes\") #1\n",
    "repeat.count(\"sometimes\") #1\n",
    "new_repeat = repeat.lower()\n",
    "new_repeat #'sometimes python is easy, sometimes python is complicated'\n",
    "new_repeat.count('sometimes') #2\n",
    "new_repeat.find('sometimes') #0"
   ]
  },
  {
   "cell_type": "code",
   "execution_count": 1,
   "metadata": {},
   "outputs": [
    {
     "data": {
      "text/plain": [
       "\"J'apprends le langage python en ce moment et c'est tres difficile\""
      ]
     },
     "execution_count": 1,
     "metadata": {},
     "output_type": "execute_result"
    }
   ],
   "source": [
    "# format = \"J'apprends {0} en ce moment et c'est tres {1}\".format('python', 'difficile')\n",
    "format = \"J'apprends le langage %s en ce moment et c'est tres %s\"%('python', 'difficile')\n",
    "format"
   ]
  }
 ],
 "metadata": {
  "kernelspec": {
   "display_name": "Python 3",
   "language": "python",
   "name": "python3"
  },
  "language_info": {
   "codemirror_mode": {
    "name": "ipython",
    "version": 3
   },
   "file_extension": ".py",
   "mimetype": "text/x-python",
   "name": "python",
   "nbconvert_exporter": "python",
   "pygments_lexer": "ipython3",
   "version": "3.7.0"
  }
 },
 "nbformat": 4,
 "nbformat_minor": 2
}
