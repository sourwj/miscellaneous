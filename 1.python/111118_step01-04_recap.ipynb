{
 "cells": [
  {
   "cell_type": "markdown",
   "metadata": {},
   "source": [
    "### step01_Calculation"
   ]
  },
  {
   "cell_type": "code",
   "execution_count": 6,
   "metadata": {},
   "outputs": [
    {
     "name": "stdout",
     "output_type": "stream",
     "text": [
      "5\n",
      "3\n",
      "5 to the power of 3 is 125\n"
     ]
    },
    {
     "data": {
      "text/plain": [
       "False"
      ]
     },
     "execution_count": 6,
     "metadata": {},
     "output_type": "execute_result"
    }
   ],
   "source": [
    "num1 = int(input())\n",
    "num2 = int(input())\n",
    "print('%d to the power of %d is %d' %(num1, num2, num1 ** num2)) \n",
    "3 * (10**8) #300000000\n",
    "3e8 #300000000.0\n",
    "type(3 * (10**8)) #int\n",
    "type(3e8) #float\n",
    "3 * (10 ** 8) == 3e8 #True\n",
    "type(True) #bool\n",
    "True or False #True\n",
    "True and False #False\n",
    "1 > 2 and 2 == 2 #False"
   ]
  },
  {
   "cell_type": "markdown",
   "metadata": {},
   "source": [
    "### step02_Type1"
   ]
  },
  {
   "cell_type": "code",
   "execution_count": 44,
   "metadata": {},
   "outputs": [
    {
     "name": "stdout",
     "output_type": "stream",
     "text": [
      "문자열 2\n",
      "문자열2\n"
     ]
    },
    {
     "data": {
      "text/plain": [
       "'문\\\\a자열'"
      ]
     },
     "execution_count": 44,
     "metadata": {},
     "output_type": "execute_result"
    }
   ],
   "source": [
    "print('문자열', 2) #문자열 2\n",
    "# print('문자열'+2) #TypeError: can only concatenate str (not \"int\") to str\n",
    "print('문자열'+str(2)) #문자열2\n",
    "float(True) #1.0\n",
    "int(True) #1\n",
    "str(True) #'True'\n",
    "float(False) #0.0\n",
    "int(False) #0\n",
    "str(False) #'False'\n",
    "data = '문\\a자열'\n",
    "data #'문\\x07자열'\n",
    "data2 = r'문\\a자열'\n",
    "data2 #'문\\\\a자열'"
   ]
  },
  {
   "cell_type": "code",
   "execution_count": 86,
   "metadata": {},
   "outputs": [
    {
     "name": "stdout",
     "output_type": "stream",
     "text": [
      "메시지 방가1 방가2\n"
     ]
    }
   ],
   "source": [
    "#? 함수 - 두개의 인수 값을 받아서 %s 두개를 사용해 출력하기\n",
    "# 출력데이터 : 메시지 값, 값2\n",
    "def func1(input1, input2):\n",
    "    print('메시지 %s %s' %(input1, input2))\n",
    "func1('방가1', '방가2')"
   ]
  },
  {
   "cell_type": "code",
   "execution_count": 87,
   "metadata": {},
   "outputs": [
    {
     "data": {
      "text/plain": [
       "'bdfhjlnp'"
      ]
     },
     "execution_count": 87,
     "metadata": {},
     "output_type": "execute_result"
    }
   ],
   "source": [
    "#string indexing\n",
    "data = 'abcde'\n",
    "data[0] #'a'\n",
    "data[0:] #'abcde'\n",
    "data[::-1] #'edcba'\n",
    "data[0:3] #'abc'\n",
    "data[::2] #'ace' \n",
    "data2 = 'abcdefghijklmnop'\n",
    "data2[1::2] #'bdfhjlnp'"
   ]
  },
  {
   "cell_type": "code",
   "execution_count": 95,
   "metadata": {},
   "outputs": [
    {
     "name": "stdout",
     "output_type": "stream",
     "text": [
      "printemps\n",
      "ete\n",
      "automne\n",
      "hiver\n"
     ]
    }
   ],
   "source": [
    "#les saisons\n",
    "saisons = ' printemps ete automne hiver '\n",
    "saisons2 = saisons.strip()\n",
    "saisons2 #'printemps ete automne hiver'\n",
    "saisons #' printemps ete automne hiver '\n",
    "saisons3 = ' <><><>printemps ete automne?? hiver<><><'\n",
    "saisons3 #' <><><>printemps ete automne?? hiver<><><'\n",
    "saisons4 = saisons3.strip('<> ?')\n",
    "saisons4 #'printemps ete automne?? hiver'\n",
    "saisons5 = saisons4.split()\n",
    "saisons5 #['printemps', 'ete', 'automne??', 'hiver']\n",
    "saisons5[2] = saisons5[2].rstrip('?')\n",
    "saisons5 #['printemps', 'ete', 'automne', 'hiver']\n",
    "saisons5.append('les saisons')\n",
    "saisons5 #['printemps', 'ete', 'automne', 'hiver', 'les saisons']\n",
    "saisons5.pop()\n",
    "saisons5 #['printemps', 'ete', 'automne', 'hiver']\n",
    "':'.join(saisons2) #'p:r:i:n:t:e:m:p:s: :e:t:e: :a:u:t:o:m:n:e: :h:i:v:e:r'\n",
    "print('\\n'.join(saisons5)) \n",
    "#printemps\n",
    "#ete\n",
    "#automne\n",
    "#hiver"
   ]
  },
  {
   "cell_type": "markdown",
   "metadata": {},
   "source": [
    "### step03_ConditionLoop"
   ]
  },
  {
   "cell_type": "markdown",
   "metadata": {},
   "source": [
    "### 1. 윤년  프로그램을 통한 연산자 및 조건식 이해하기\n",
    "\n",
    "1. 4로 나누어 떨어지는 년도 : 값 % 4 == 0\n",
    "- 그 중 100으로 나누어 떨어지는 년도는 윤년이 아님 : 값 % 100 != 윤년\n",
    "- 400으로 나누어 떨어지는 년도는 무조건 윤년 : 1+2 또는 3번째 조건식 비교 ( 값 % 400 과 0 비교)"
   ]
  },
  {
   "cell_type": "code",
   "execution_count": 101,
   "metadata": {},
   "outputs": [
    {
     "name": "stdout",
     "output_type": "stream",
     "text": [
      "2016 : 윤년\n",
      "2000 : 윤년\n",
      "2018 : 윤년이 아님\n",
      "2020 : 윤년\n"
     ]
    }
   ],
   "source": [
    "def leapYear(input):\n",
    "    if(input % 400 == 0):\n",
    "        print(str(input) + ' : 윤년')\n",
    "    elif(input % 4 == 0 and input % 100 != 0):\n",
    "        print(str(input) + ' : 윤년')\n",
    "    else:\n",
    "        print(str(input) + ' : 윤년이 아님')\n",
    "leapYear(2016)\n",
    "leapYear(2000)\n",
    "leapYear(2018)\n",
    "leapYear(2020)"
   ]
  },
  {
   "cell_type": "markdown",
   "metadata": {},
   "source": [
    "### Lab3 - 팩토리얼 계산하기\n",
    ">반복문을 활용하여 팩토리얼 계산해 보기<br>\n",
    "for문과 while문을 활용하여 각각 만들어 보기<br>\n",
    "팩토리얼 n!은 1~n까지의 정수를 모두 곱한 것을 의미한다<br>\n",
    "n! = 1*2*3*...(n-1)*n\n",
    "\n",
    ">힌트 : range() 함수를 이용"
   ]
  },
  {
   "cell_type": "code",
   "execution_count": 5,
   "metadata": {},
   "outputs": [
    {
     "name": "stdout",
     "output_type": "stream",
     "text": [
      "3628800\n",
      "0 이상의 값을 입력하세요\n",
      "1\n",
      "3628800\n",
      "0 이상의 값을 입력하세요\n",
      "1\n"
     ]
    }
   ],
   "source": [
    "#1. for문을 이용한 팩토리얼 계산\n",
    "def fac1(num):\n",
    "    result = 1\n",
    "    if num >= 1:\n",
    "        for i in range(num):\n",
    "            result = result * (num - i)\n",
    "        return result\n",
    "    elif num == 0:\n",
    "        return 1\n",
    "    else:\n",
    "        return '0 이상의 값을 입력하세요'\n",
    "    \n",
    "print(fac1(10))\n",
    "print(fac1(-5))\n",
    "print(fac1(0))\n",
    "\n",
    "#2. while문을 이용한 팩토리얼 계산\n",
    "def fac2(num):\n",
    "    result = 1\n",
    "    i = 0\n",
    "    if num >= 1:\n",
    "        while i < num:\n",
    "            result = result * (num - i)\n",
    "            i += 1\n",
    "        return result\n",
    "    elif num == 0:\n",
    "        return 1\n",
    "    else:\n",
    "        return '0 이상의 값을 입력하세요'\n",
    "\n",
    "print(fac2(10))\n",
    "print(fac2(-5))\n",
    "print(fac2(0))"
   ]
  },
  {
   "cell_type": "markdown",
   "metadata": {},
   "source": [
    "### step04_Type2_List"
   ]
  },
  {
   "cell_type": "code",
   "execution_count": 1,
   "metadata": {},
   "outputs": [
    {
     "data": {
      "text/plain": [
       "[4, 3, 2, 1, 0]"
      ]
     },
     "execution_count": 1,
     "metadata": {},
     "output_type": "execute_result"
    }
   ],
   "source": [
    "#list\n",
    "my_list = []\n",
    "my_list #[]\n",
    "my_list = list('Salut')\n",
    "my_list #['S', 'a', 'l', 'u', 't']\n",
    "my_list[0:] #['S', 'a', 'l', 'u', 't']\n",
    "my_list[0:2] #['S', 'a']\n",
    "my_list[0::2] #['S', 'l', 't']\n",
    "my_list[::-1] #['t', 'u', 'l', 'a', 'S']\n",
    "\n",
    "numbers = [1, 2, 3, 4]\n",
    "numbers * 2 #[1, 2, 3, 4, 1, 2, 3, 4]\n",
    "numbers + [0, 0, 0] #[1, 2, 3, 4, 0, 0, 0]\n",
    "numbers #[1, 2, 3, 4]\n",
    "\n",
    "mixed_list = [[1, 2, 3], ['a', 'b', 'c'], 'dog', 'elephant', 7.7]\n",
    "mixed_list #[[1, 2, 3], ['a', 'b', 'c'], 'dog', 'elephant', 7.7]\n",
    "mixed_list[0][1] #2\n",
    "mixed_list[1][2] #'c'\n",
    "mixed_list[2] #'dog'\n",
    "type(mixed_list[4]) #float\n",
    "mixed_list[2] = 'doggo'\n",
    "mixed_list #[[1, 2, 3], ['a', 'b', 'c'], 'doggo', 'elephant', 7.7]\n",
    "mixed_list[::2] #[[1, 2, 3], 'doggo', 7.7]\n",
    "mixed_list[::-1] #[7.7, 'elephant', 'doggo', ['a', 'b', 'c'], [1, 2, 3]]\n",
    "mixed_list[-1] #7.7\n",
    "1 in mixed_list #False\n",
    "[1, 2, 3] in mixed_list #True\n",
    "'doggo' in mixed_list #True\n",
    "7.7 in mixed_list #True\n",
    "del mixed_list[4]\n",
    "mixed_list #[[1, 2, 3], ['a', 'b', 'c'], 'doggo', 'elephant']\n",
    "mixed_list.append('doggo')\n",
    "mixed_list #[[1, 2, 3], ['a', 'b', 'c'], 'doggo', 'elephant', 'doggo']\n",
    "mixed_list.append('doggo')\n",
    "mixed_list #[[1, 2, 3], ['a', 'b', 'c'], 'doggo', 'elephant', 'doggo', 'doggo']\n",
    "mixed_list.pop() #'doggo'\n",
    "mixed_list #[[1, 2, 3], ['a', 'b', 'c'], 'doggo', 'elephant', 'doggo']\n",
    "mixed_list.pop(0) #[1, 2, 3]\n",
    "mixed_list #[['a', 'b', 'c'], 'doggo', 'elephant', 'doggo']\n",
    "del mixed_list[1:3]\n",
    "mixed_list #[['a', 'b', 'c'], 'doggo']\n",
    "\n",
    "#list sorting\n",
    "list2 = [5, 2, 8, 1, 3]\n",
    "list2.sort()\n",
    "list2 #[1, 2, 3, 5, 8]\n",
    "list2.sort(reverse=True) \n",
    "list2 #[8, 5, 3, 2, 1]\n",
    "\n",
    "list3 = ['a', 'B', 'E', 'c']\n",
    "list3.sort()\n",
    "list3 #['B', 'E', 'a', 'c']\n",
    "list3.sort(key=str.lower)\n",
    "list3 #['a', 'B', 'c', 'E']\n",
    "\n",
    "list4 = ['123', '45', '6789', '23']\n",
    "list4.sort()\n",
    "list4 #['123', '23', '45', '6789']\n",
    "list4.sort(key=int)\n",
    "list4 #['23', '45', '123', '6789']\n",
    "\n",
    "#sort v.s. sorted\n",
    "my_list = []\n",
    "for i in range(5):\n",
    "    my_list.append(i)\n",
    "my_list #[0, 1, 2, 3, 4]\n",
    "my_list.sort(reverse=True)\n",
    "my_list #[4, 3, 2, 1, 0]\n",
    "my_list = [0, 1, 2, 3, 4]\n",
    "new_list = sorted(my_list,reverse=True)\n",
    "my_list #[0, 1, 2, 3, 4]\n",
    "new_list #[4, 3, 2, 1, 0]"
   ]
  }
 ],
 "metadata": {
  "kernelspec": {
   "display_name": "Python 3",
   "language": "python",
   "name": "python3"
  },
  "language_info": {
   "codemirror_mode": {
    "name": "ipython",
    "version": 3
   },
   "file_extension": ".py",
   "mimetype": "text/x-python",
   "name": "python",
   "nbconvert_exporter": "python",
   "pygments_lexer": "ipython3",
   "version": "3.7.0"
  }
 },
 "nbformat": 4,
 "nbformat_minor": 2
}
